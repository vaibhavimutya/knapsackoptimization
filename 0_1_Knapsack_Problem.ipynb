{
  "nbformat": 4,
  "nbformat_minor": 0,
  "metadata": {
    "colab": {
      "name": "0-1 Knapsack Problem.ipynb",
      "provenance": [],
      "collapsed_sections": []
    },
    "kernelspec": {
      "name": "python3",
      "display_name": "Python 3"
    }
  },
  "cells": [
    {
      "cell_type": "markdown",
      "metadata": {
        "id": "f-Lq-_5CJONJ",
        "colab_type": "text"
      },
      "source": [
        "# Set-Up"
      ]
    },
    {
      "cell_type": "markdown",
      "metadata": {
        "id": "cQ9chklAH4ck",
        "colab_type": "text"
      },
      "source": [
        "The knapsack problem is a common problem in combinatorial optimization. Our objective in such problems, given a set of n items (each with a weight and a value), is to find the number of each item to include in a collection such that the total weight is less than or equal to a given limit and the total value is as large as possible.\n",
        "\n",
        "In simple terms, we want to gather the most valuable items without overloading our knapsack.\n",
        "\n",
        "Mathmatically:\n",
        "\n",
        "Maximize: \n",
        "\n",
        "$\\sum\\limits_{n=0}^{n-1} V_i*X_i$\n",
        "\n",
        "Subject to: \n",
        "\n",
        "$\\sum\\limits_{n=0}^{n-1} W_i*X_i <= W_{max}$\n",
        "\n",
        "where, \n",
        "\n",
        "$$\n",
        "X_i = \n",
        "\\begin{cases}\n",
        "  1 \\ \\text{if item is chosen}\\\\\n",
        "  0 \\ \\text{otherwise}\n",
        "\\end{cases}\n",
        "$$\n",
        "\n",
        "$W_i = \\text{weight of item}$, Let's assume maximum capacity of knapsack is 500. Then, $W_{max} = 500.$\n",
        "\n",
        "$V_i = \\text{value of item}$. \n"
      ]
    },
    {
      "cell_type": "code",
      "metadata": {
        "id": "k5sFsw35LpIX",
        "colab_type": "code",
        "colab": {}
      },
      "source": [
        "#Load required modules\n",
        "import numpy as np\n",
        "from __future__ import division"
      ],
      "execution_count": 0,
      "outputs": []
    },
    {
      "cell_type": "code",
      "metadata": {
        "id": "jMoum5H8KDNT",
        "colab_type": "code",
        "colab": {}
      },
      "source": [
        "#Generaing input\n",
        "values = [50,10,5,70,90,79,50,80,70]\n",
        "weight = [300,50,30,350,365,150,150,195,400]\n",
        "names = ['1', '2', '3', '4', '5', '6', '7', '8', '9']"
      ],
      "execution_count": 0,
      "outputs": []
    },
    {
      "cell_type": "markdown",
      "metadata": {
        "id": "B3NALWJ-JSsf",
        "colab_type": "text"
      },
      "source": [
        "# Greedy approach"
      ]
    },
    {
      "cell_type": "code",
      "metadata": {
        "id": "b_iVNZJjHgSM",
        "colab_type": "code",
        "colab": {}
      },
      "source": [
        "def greedy(values, weight, names, capacity):\n",
        "  \"\"\"Returns a greedy solution\n",
        "  \n",
        "  Args:\n",
        "  values: Values of items\n",
        "  weights: Weights of items\n",
        "  names: Names of items\n",
        "  capacity: Max capacity of knapsack\n",
        "\n",
        "  Returns:\n",
        "  Best greedy solution\n",
        "  \"\"\"\n",
        "  greedy_input_array = [[i,j,k] for i,j,k in zip(values, weight, names)]\n",
        "  greedy_input_array = sorted(greedy_input_array, key=lambda greedy_input_array_entry: greedy_input_array_entry[0], reverse=True)\n",
        "  greedy_value = []\n",
        "  greedy_weight = []\n",
        "  greedy_names = []\n",
        "  for i in range(len(values)):\n",
        "    if sum(greedy_weight) <= capacity:\n",
        "      greedy_value.append(greedy_input_array[i][0])\n",
        "      greedy_weight.append(greedy_input_array[i][1])\n",
        "      greedy_names.append(greedy_input_array[i][2])\n",
        "    else:\n",
        "      pass\n",
        "  out = [greedy_value, greedy_weight, greedy_names]\n",
        "  out_value = sum(out[0])\n",
        "  return(out_value)\n",
        "\n"
      ],
      "execution_count": 0,
      "outputs": []
    },
    {
      "cell_type": "code",
      "metadata": {
        "id": "af-nEYOSPZ6N",
        "colab_type": "code",
        "colab": {
          "base_uri": "https://localhost:8080/",
          "height": 34
        },
        "outputId": "c472b5d7-1905-44a3-e3dd-818289d30a03"
      },
      "source": [
        "greedy(values, weight, names, 500)"
      ],
      "execution_count": 67,
      "outputs": [
        {
          "output_type": "execute_result",
          "data": {
            "text/plain": [
              "170"
            ]
          },
          "metadata": {
            "tags": []
          },
          "execution_count": 67
        }
      ]
    },
    {
      "cell_type": "markdown",
      "metadata": {
        "id": "Su-BzaqsYJz4",
        "colab_type": "text"
      },
      "source": [
        "- Therefore, with the greedy approach 170 is the best value we obtain. "
      ]
    },
    {
      "cell_type": "markdown",
      "metadata": {
        "id": "Is1aiKVRTL2x",
        "colab_type": "text"
      },
      "source": [
        "# Brute Force Approach"
      ]
    },
    {
      "cell_type": "code",
      "metadata": {
        "id": "UcDESEq7UH2p",
        "colab_type": "code",
        "colab": {}
      },
      "source": [
        "def brute_force(values, weight, names, capacity, cardinality):\n",
        "  \"\"\"Evaluates all options and returns a solution\n",
        "  \n",
        "  Args:\n",
        "  values: Values of items\n",
        "  weights: Weights of items\n",
        "  names: Names of items\n",
        "  capacity: Max capacity of knapsack\n",
        "  cardinality: size of the array\n",
        "\n",
        "  Returns:\n",
        "  Brute force solution\n",
        "  \"\"\"\n",
        "\n",
        "  if cardinality == 0 or capacity == 0:\n",
        "    return 0\n",
        "  if (weight[cardinality - 1] > capacity):\n",
        "    return brute_force(values, weight, names, capacity, cardinality-1)\n",
        "  else:\n",
        "    return max(values[cardinality-1] + brute_force(values, weight, names, capacity - weight[cardinality-1], cardinality-1), \n",
        "               brute_force(values, weight, names, capacity, cardinality-1))"
      ],
      "execution_count": 0,
      "outputs": []
    },
    {
      "cell_type": "code",
      "metadata": {
        "id": "UiXcNQAgV_HV",
        "colab_type": "code",
        "colab": {
          "base_uri": "https://localhost:8080/",
          "height": 34
        },
        "outputId": "43f5ef88-a789-41eb-9605-d56d20fb69bf"
      },
      "source": [
        "brute_force(values, weight, names, 500, 9)"
      ],
      "execution_count": 52,
      "outputs": [
        {
          "output_type": "execute_result",
          "data": {
            "text/plain": [
              "209"
            ]
          },
          "metadata": {
            "tags": []
          },
          "execution_count": 52
        }
      ]
    },
    {
      "cell_type": "markdown",
      "metadata": {
        "id": "JpmhYZA0YenG",
        "colab_type": "text"
      },
      "source": [
        "- Therefore, with the brute force approach 209 is the best value we obtain. "
      ]
    },
    {
      "cell_type": "markdown",
      "metadata": {
        "id": "UUEpqUZTYjVD",
        "colab_type": "text"
      },
      "source": [
        "# Dynammic Programming approach\n"
      ]
    }
  ]
}